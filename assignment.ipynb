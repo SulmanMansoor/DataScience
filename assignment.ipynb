{
 "cells": [
  {
   "cell_type": "markdown",
   "id": "5f0ade9f",
   "metadata": {},
   "source": [
    "# Assignment 2 (Part 2)"
   ]
  },
  {
   "cell_type": "markdown",
   "id": "5b9eba4c",
   "metadata": {},
   "source": [
    "### Assignment Instructions"
   ]
  },
  {
   "cell_type": "markdown",
   "id": "05c98741",
   "metadata": {},
   "source": [
    "* You are **not** allowed to edit any pre-defined variables and as per the instructions for every question you have to assign your answers to these variables.\n",
    "* Write your answers in place of `...`\n",
    "* You are **not** allowed to use for-loops anywhere in the assignment unless explicitly permitted\n",
    "* You are **not** allowed to import any other libraries\n",
    "* Use **only** seaborn or pandas to make plots\n",
    "* In questions which require storing of answer, if nothing else mentioned use `qKAns` to store the answer where K is question number.\n",
    "* Rename this file to `YourName_DA2_2.ipynb` and submit the two notebooks. to `YourName_DA2.zip`"
   ]
  },
  {
   "cell_type": "code",
   "execution_count": 25,
   "id": "20f6ff57",
   "metadata": {},
   "outputs": [],
   "source": [
    "import pandas as pd\n",
    "import numpy as np\n",
    "import seaborn as sns\n",
    "import matplotlib.pyplot as plt\n",
    "from collections import defaultdict\n",
    "from scipy.stats import norm"
   ]
  },
  {
   "attachments": {},
   "cell_type": "markdown",
   "id": "5b078a24",
   "metadata": {},
   "source": [
    "In this part, we will explore a dataset usually used in machine learning to perform classification. It has several demographic features of adults and a column that shows whether they have an income of atleast 50k. Of course, before performing machine learning we need to clean the dataset and visualise it so as to ascertain whether it will give reliable results."
   ]
  },
  {
   "cell_type": "markdown",
   "id": "77cf6762",
   "metadata": {},
   "source": [
    "**Question 1** Read the dataset `adults.csv` into the variable `adultsData`. `fnlwgt` is the index column."
   ]
  },
  {
   "cell_type": "code",
   "execution_count": 36,
   "id": "866ed29b",
   "metadata": {},
   "outputs": [],
   "source": [
    "#Write your code here\n",
    "adultsData = pd.read_csv('adults.csv')\n",
    "a=adultsData"
   ]
  },
  {
   "cell_type": "markdown",
   "id": "50336147",
   "metadata": {},
   "source": [
    "**Question 2** Convert all numerical columns, including the index, into the `int` datatype. "
   ]
  },
  {
   "cell_type": "code",
   "execution_count": null,
   "id": "0f30a418",
   "metadata": {},
   "outputs": [],
   "source": [
    "numerical_cols = ['age', 'educational-num', 'capital-gain', 'capital-loss', 'hours-per-week']\n",
    "adultsData[numerical_cols] = adultsData[numerical_cols].astype(int)\n",
    "# Convert index to int (if 'fnlwgt' was set as index in Q1)\n",
    "adultsData.index = adultsData.index.astype(int)"
   ]
  },
  {
   "attachments": {},
   "cell_type": "markdown",
   "id": "a2364411",
   "metadata": {},
   "source": [
    "**Question 3** Replace values in the `income` such that if `income <= 50k = 0` and `income > 50k = 1`.  "
   ]
  },
  {
   "cell_type": "code",
   "execution_count": null,
   "id": "4ea3a22b",
   "metadata": {},
   "outputs": [],
   "source": [
    "adultsData['income'] = adultsData['income'].replace({'<=50K': 0, '>50K': 1})"
   ]
  },
  {
   "cell_type": "markdown",
   "id": "9982600a",
   "metadata": {},
   "source": [
    "**Question 4** Change the name of the column `education-num` to `years of education` and `relationship` to `relationship status`. Replace dashes in the index names with spaces (without hardcoding)."
   ]
  },
  {
   "cell_type": "code",
   "execution_count": null,
   "id": "e837952c",
   "metadata": {},
   "outputs": [],
   "source": [
    "adultsData.rename(columns={\n",
    "    'educational-num': 'years of education',\n",
    "    'relationship': 'relationship status'\n",
    "}, inplace=True)\n",
    "adultsData.columns = [col.replace('-', ' ') for col in adultsData.columns]"
   ]
  },
  {
   "cell_type": "markdown",
   "id": "842fb084",
   "metadata": {},
   "source": [
    "**Question 5** Convert all the string columns into the `string` datatype. "
   ]
  },
  {
   "cell_type": "code",
   "execution_count": null,
   "id": "0cc274b2",
   "metadata": {},
   "outputs": [],
   "source": [
    "string_cols = adultsData.select_dtypes(include=['object']).columns\n",
    "adultsData[string_cols] = adultsData[string_cols].astype('string')"
   ]
  },
  {
   "cell_type": "markdown",
   "id": "119b6154",
   "metadata": {},
   "source": [
    "**Question 6** Write a function `dashToSpace` that receives an entire column of a dataframe and returns a copy of the column with dashes replaced with spaces."
   ]
  },
  {
   "cell_type": "code",
   "execution_count": null,
   "id": "78b681e8",
   "metadata": {},
   "outputs": [],
   "source": [
    "def dashToSpace(col):\n",
    "    return col.str.replace('-', ' ')"
   ]
  },
  {
   "cell_type": "markdown",
   "id": "f4ef07a9",
   "metadata": {},
   "source": [
    "**Question 7** Use the function `dashtoSpace` inplace on `adultsData`. "
   ]
  },
  {
   "cell_type": "code",
   "execution_count": null,
   "id": "bd66b592",
   "metadata": {},
   "outputs": [],
   "source": [
    "for col in adultsData.select_dtypes(include='string').columns:\n",
    "    adultsData[col] = dashToSpace(adultsData[col])"
   ]
  },
  {
   "attachments": {},
   "cell_type": "markdown",
   "id": "8ee045ce",
   "metadata": {},
   "source": [
    "**Question 8** Visualize total number of missing values for columns that contain missing values. Only plot the columns which have missing values. Choose a suitable visualization.  "
   ]
  },
  {
   "cell_type": "code",
   "execution_count": null,
   "id": "938f58bd",
   "metadata": {},
   "outputs": [],
   "source": [
    "missing = adultsData.isnull().sum()\n",
    "missing = missing[missing > 0]\n",
    "sns.barplot(x=missing.index, y=missing.values)\n",
    "plt.title('Missing Values per Column')\n",
    "plt.show()"
   ]
  },
  {
   "cell_type": "markdown",
   "id": "c9c1b20b",
   "metadata": {},
   "source": [
    "**Question 9** In this question we will deal with null values. Replace the null values in each column with the non-null categorical mode of the column with the years of education. What that means is for each unique value of `years of education` find the mode of column's non-null rows. Use loops if you wish."
   ]
  },
  {
   "cell_type": "code",
   "execution_count": null,
   "id": "07228510",
   "metadata": {},
   "outputs": [],
   "source": [
    "for col in adultsData.columns[adultsData.isnull().any()]:\n",
    "    modes = adultsData.groupby('years of education')[col].transform(lambda x: x.mode()[0])\n",
    "    adultsData[col] = adultsData[col].fillna(modes)"
   ]
  },
  {
   "cell_type": "markdown",
   "id": "9bfb1417",
   "metadata": {},
   "source": [
    "**Question 10** Combine `capital gain` and `capital loss` columns into `capital profit`. Insert `capital profit` into `adultsData` right before `income`."
   ]
  },
  {
   "cell_type": "code",
   "execution_count": null,
   "id": "0b2cdfbc",
   "metadata": {},
   "outputs": [],
   "source": [
    "#Write your code here\n",
    "..."
   ]
  },
  {
   "attachments": {},
   "cell_type": "markdown",
   "id": "25630162",
   "metadata": {},
   "source": [
    "**Question 11** Display a colored correlation heatmap for all numerical columns in `adultsData`. Format the heatmap as follows: \n",
    "- Display correlation values on the heatmap \n",
    "- Use a diverging color palette of your choice"
   ]
  },
  {
   "cell_type": "code",
   "execution_count": null,
   "id": "1df35d78",
   "metadata": {},
   "outputs": [],
   "source": [
    "#Write your code here\n",
    "..."
   ]
  },
  {
   "cell_type": "markdown",
   "id": "5f8bce7e",
   "metadata": {},
   "source": [
    "**Question 12** Describe what the heatmap shows. "
   ]
  },
  {
   "cell_type": "markdown",
   "id": "f33de746",
   "metadata": {},
   "source": [
    "..."
   ]
  },
  {
   "attachments": {},
   "cell_type": "markdown",
   "id": "4988c73a",
   "metadata": {},
   "source": [
    "**Question 13** For all numerical columns in `adultsData`, plot their relationships with average income. Use a suitable representation. You can use for loops here."
   ]
  },
  {
   "cell_type": "code",
   "execution_count": null,
   "id": "f3a0b9b2",
   "metadata": {},
   "outputs": [],
   "source": [
    "#Write your code here\n",
    "..."
   ]
  },
  {
   "attachments": {},
   "cell_type": "markdown",
   "id": "db645743",
   "metadata": {},
   "source": [
    "**Question 14** For each numerical columns in `adultData`, draw a scatter plot with <b>all</b> other numerical columns with distinct values of the numerical column on the x-axis and the average value of numerical columns on the y-axis. For example, `age` against `average years of education`. You can use for loops here."
   ]
  },
  {
   "cell_type": "code",
   "execution_count": null,
   "id": "095da148",
   "metadata": {},
   "outputs": [],
   "source": [
    "#Write your code here\n",
    "..."
   ]
  },
  {
   "attachments": {},
   "cell_type": "markdown",
   "id": "16fa4fe9",
   "metadata": {},
   "source": [
    "**Question 15** For all non-numerical columns in `adultsData`, plot their relationships with average income. Use a suitable representation. You can use for loops here."
   ]
  },
  {
   "cell_type": "code",
   "execution_count": null,
   "id": "6747df98",
   "metadata": {},
   "outputs": [],
   "source": [
    "#Write your code here\n",
    "..."
   ]
  },
  {
   "cell_type": "markdown",
   "id": "ee9500c2",
   "metadata": {},
   "source": [
    "**Question 16** Describe the relation of each non-numerical column with the income as you see in the above plots. Specifically describe what effect being in a certain category has on the income"
   ]
  },
  {
   "cell_type": "markdown",
   "id": "85cf0d71",
   "metadata": {},
   "source": [
    "..."
   ]
  }
 ],
 "metadata": {
  "kernelspec": {
   "display_name": "Python [conda env:base] *",
   "language": "python",
   "name": "conda-base-py"
  },
  "language_info": {
   "codemirror_mode": {
    "name": "ipython",
    "version": 3
   },
   "file_extension": ".py",
   "mimetype": "text/x-python",
   "name": "python",
   "nbconvert_exporter": "python",
   "pygments_lexer": "ipython3",
   "version": "3.12.7"
  },
  "vscode": {
   "interpreter": {
    "hash": "26de051ba29f2982a8de78e945f0abaf191376122a1563185a90213a26c5da77"
   }
  }
 },
 "nbformat": 4,
 "nbformat_minor": 5
}
